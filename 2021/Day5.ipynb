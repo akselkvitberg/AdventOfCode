{
 "cells": [
  {
   "cell_type": "code",
   "execution_count": 100,
   "metadata": {},
   "outputs": [],
   "source": [
    "import utils\n",
    "import numpy as np\n",
    "from collections import Counter\n",
    "import re\n",
    "input = utils.GetInput(5)"
   ]
  },
  {
   "cell_type": "code",
   "execution_count": 101,
   "metadata": {},
   "outputs": [],
   "source": [
    "# input = \"\"\"0,9 -> 5,9\n",
    "# 8,0 -> 0,8\n",
    "# 9,4 -> 3,4\n",
    "# 2,2 -> 2,1\n",
    "# 7,0 -> 7,4\n",
    "# 6,4 -> 2,0\n",
    "# 0,9 -> 2,9\n",
    "# 3,4 -> 1,4\n",
    "# 0,0 -> 8,8\n",
    "# 5,5 -> 8,2\"\"\""
   ]
  },
  {
   "cell_type": "code",
   "execution_count": 102,
   "metadata": {},
   "outputs": [
    {
     "data": {
      "text/plain": [
       "array([[609, 916,  60, 367],\n",
       "       [349, 494, 682, 494]])"
      ]
     },
     "execution_count": 102,
     "metadata": {},
     "output_type": "execute_result"
    }
   ],
   "source": [
    "items = np.array([[int(x) for x in re.split(' -> |,', line)] for line in input.splitlines()])\n",
    "items[:2]"
   ]
  },
  {
   "cell_type": "code",
   "execution_count": 108,
   "metadata": {},
   "outputs": [],
   "source": [
    "def line(x1, y1, x2, y2):\n",
    "    lx, ly = abs(x2 - x1), abs(y2 - y1)\n",
    "    l = max(lx, ly)\n",
    "    dx, dy = round((x2 - x1) / l), round((y2 - y1) / l)\n",
    "\n",
    "    points = []\n",
    "\n",
    "    for i in range(l + 1):\n",
    "        x = x1 + dx * i\n",
    "        y = y1 + dy * i\n",
    "        points.append((x,y))\n",
    "\n",
    "    return points"
   ]
  },
  {
   "cell_type": "code",
   "execution_count": 104,
   "metadata": {},
   "outputs": [],
   "source": [
    "def orthogonal(x1, y1, x2, y2):\n",
    "    return x1 == x2 or y1 == y2\n"
   ]
  },
  {
   "cell_type": "code",
   "execution_count": 106,
   "metadata": {},
   "outputs": [
    {
     "data": {
      "text/plain": [
       "6687"
      ]
     },
     "execution_count": 106,
     "metadata": {},
     "output_type": "execute_result"
    }
   ],
   "source": [
    "p1 = Counter()\n",
    "for l in filter(lambda l: orthogonal(*l), items):\n",
    "    p1.update(line(*l))\n",
    "\n",
    "len([i for i in p1.items() if i[1] > 1])"
   ]
  },
  {
   "cell_type": "code",
   "execution_count": 107,
   "metadata": {},
   "outputs": [
    {
     "data": {
      "text/plain": [
       "19851"
      ]
     },
     "execution_count": 107,
     "metadata": {},
     "output_type": "execute_result"
    }
   ],
   "source": [
    "p1 = Counter()\n",
    "for l in items:\n",
    "    p1.update(line(*l))\n",
    "\n",
    "len([i for i in p1.items() if i[1] > 1])"
   ]
  }
 ],
 "metadata": {
  "kernelspec": {
   "display_name": "Python 3.9.0 64-bit",
   "metadata": {
    "interpreter": {
     "hash": "0e1c40ae922d1dd7cf4f12417ced6304637499fda80fb98e6529f33e524accf3"
    }
   },
   "name": "python3"
  },
  "language_info": {
   "codemirror_mode": {
    "name": "ipython",
    "version": 3
   },
   "file_extension": ".py",
   "mimetype": "text/x-python",
   "name": "python",
   "nbconvert_exporter": "python",
   "pygments_lexer": "ipython3",
   "version": "3.9.9"
  },
  "orig_nbformat": 2
 },
 "nbformat": 4,
 "nbformat_minor": 2
}
