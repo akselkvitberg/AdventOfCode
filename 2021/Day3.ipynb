{
 "cells": [
  {
   "cell_type": "code",
   "execution_count": 45,
   "metadata": {},
   "outputs": [],
   "source": [
    "import numpy as np"
   ]
  },
  {
   "cell_type": "code",
   "execution_count": 46,
   "metadata": {},
   "outputs": [],
   "source": [
    "import utils\n",
    "input = utils.GetInput(3)"
   ]
  },
  {
   "cell_type": "code",
   "execution_count": 47,
   "metadata": {},
   "outputs": [],
   "source": [
    "#input = '00100\\n11110\\n10110\\n10111\\n10101\\n01111\\n00111\\n11100\\n10000\\n11001\\n00010\\n01010'"
   ]
  },
  {
   "cell_type": "code",
   "execution_count": 48,
   "metadata": {},
   "outputs": [
    {
     "data": {
      "text/plain": [
       "1000"
      ]
     },
     "execution_count": 48,
     "metadata": {},
     "output_type": "execute_result"
    }
   ],
   "source": [
    "lines = input.splitlines()\n",
    "len(lines)"
   ]
  },
  {
   "cell_type": "code",
   "execution_count": 49,
   "metadata": {},
   "outputs": [
    {
     "data": {
      "text/plain": [
       "array([['0', '0', '0', '0', '0', '0', '0', '1', '1', '0', '1', '0'],\n",
       "       ['0', '1', '1', '0', '0', '1', '1', '1', '1', '0', '1', '1'],\n",
       "       ['1', '0', '0', '1', '0', '1', '0', '1', '1', '1', '0', '1']],\n",
       "      dtype='<U1')"
      ]
     },
     "execution_count": 49,
     "metadata": {},
     "output_type": "execute_result"
    }
   ],
   "source": [
    "items = np.array([[c for c in line] for line in lines])\n",
    "items[:3]"
   ]
  },
  {
   "cell_type": "code",
   "execution_count": 50,
   "metadata": {},
   "outputs": [
    {
     "data": {
      "text/plain": [
       "481"
      ]
     },
     "execution_count": 50,
     "metadata": {},
     "output_type": "execute_result"
    }
   ],
   "source": [
    "bits = items[:,0]\n",
    "len(bits[bits == '0'])"
   ]
  },
  {
   "cell_type": "code",
   "execution_count": 51,
   "metadata": {},
   "outputs": [
    {
     "data": {
      "text/plain": [
       "[0, 0, 0, 0, 0, 0, 0, 0, 0, 0, 0, 0]"
      ]
     },
     "execution_count": 51,
     "metadata": {},
     "output_type": "execute_result"
    }
   ],
   "source": [
    "size = len(lines[0])\n",
    "gamma = [0] * size\n",
    "gamma"
   ]
  },
  {
   "cell_type": "code",
   "execution_count": 52,
   "metadata": {},
   "outputs": [
    {
     "data": {
      "text/plain": [
       "(['1', '0', '1', '1', '0', '0', '1', '0', '0', '0', '0', '1'],\n",
       " ['0', '1', '0', '0', '1', '1', '0', '1', '1', '1', '1', '0'])"
      ]
     },
     "execution_count": 52,
     "metadata": {},
     "output_type": "execute_result"
    }
   ],
   "source": [
    "size = len(lines[0])\n",
    "gamma = [0] * size\n",
    "epsilon = [0] * size\n",
    "half = len(lines) / 2\n",
    "for i in range(0, size):\n",
    "    bits = items[:,i]\n",
    "    b = len(bits[bits == '1'])\n",
    "    if(b >= half):\n",
    "        gamma[i] = '1'\n",
    "        epsilon[i] = '0'\n",
    "    else:\n",
    "        gamma[i] = '0'\n",
    "        epsilon[i] = '1'\n",
    "\n",
    "gamma, epsilon"
   ]
  },
  {
   "cell_type": "code",
   "execution_count": 53,
   "metadata": {},
   "outputs": [
    {
     "data": {
      "text/plain": [
       "(2849, 1246, 3549854)"
      ]
     },
     "execution_count": 53,
     "metadata": {},
     "output_type": "execute_result"
    }
   ],
   "source": [
    "g = int(''.join(str(i) for i in gamma), 2)\n",
    "e = int(''.join(str(i) for i in epsilon), 2)\n",
    "g, e, g*e"
   ]
  },
  {
   "cell_type": "code",
   "execution_count": 54,
   "metadata": {},
   "outputs": [
    {
     "data": {
      "text/plain": [
       "array([['0', '0', '0', ..., '0', '1', '0'],\n",
       "       ['0', '1', '1', ..., '0', '1', '1'],\n",
       "       ['0', '0', '0', ..., '1', '1', '0'],\n",
       "       ...,\n",
       "       ['0', '0', '0', ..., '1', '1', '1'],\n",
       "       ['0', '0', '0', ..., '0', '0', '1'],\n",
       "       ['0', '0', '0', ..., '0', '0', '1']], dtype='<U1')"
      ]
     },
     "execution_count": 54,
     "metadata": {},
     "output_type": "execute_result"
    }
   ],
   "source": [
    "ox = items\n",
    "ox[ox[:,0] == '0']"
   ]
  },
  {
   "cell_type": "code",
   "execution_count": 55,
   "metadata": {},
   "outputs": [
    {
     "data": {
      "text/plain": [
       "(array(['1', '0', '1', '0', '1', '1', '0', '1', '1', '1', '1', '1'],\n",
       "       dtype='<U1'),\n",
       " array(['0', '1', '0', '1', '0', '1', '0', '0', '1', '0', '0', '1'],\n",
       "       dtype='<U1'))"
      ]
     },
     "execution_count": 55,
     "metadata": {},
     "output_type": "execute_result"
    }
   ],
   "source": [
    "ox = items\n",
    "co = items\n",
    "\n",
    "for i in range(0, size):\n",
    "    bits = ox[:,i]\n",
    "    b = len(bits[bits == '1'])\n",
    "    if (b >= len(ox)/2):\n",
    "        ox = ox[ox[:, i] == '1']\n",
    "    else:\n",
    "        ox = ox[ox[:, i] == '0']\n",
    "    if(len(ox) == 1):\n",
    "        ox_rate = ox[0]\n",
    "        break\n",
    "\n",
    "for i in range(0, size):\n",
    "    bits = co[:,i]\n",
    "    b = len(bits[bits == '0'])\n",
    "    if (b <= len(co)/2):\n",
    "        co = co[co[:, i] == '0']\n",
    "    else:\n",
    "        co = co[co[:, i] == '1']\n",
    "    if(len(co) == 1):\n",
    "        co_rate = co[0]\n",
    "ox_rate, co_rate"
   ]
  },
  {
   "cell_type": "code",
   "execution_count": 56,
   "metadata": {},
   "outputs": [
    {
     "data": {
      "text/plain": [
       "(2783, 1353, 3765399)"
      ]
     },
     "execution_count": 56,
     "metadata": {},
     "output_type": "execute_result"
    }
   ],
   "source": [
    "o = int(''.join(str(i) for i in ox_rate), 2)\n",
    "c = int(''.join(str(i) for i in co_rate), 2)\n",
    "o, c, o*c"
   ]
  }
 ],
 "metadata": {
  "kernelspec": {
   "display_name": "Python 3.9.0 64-bit",
   "metadata": {
    "interpreter": {
     "hash": "0e1c40ae922d1dd7cf4f12417ced6304637499fda80fb98e6529f33e524accf3"
    }
   },
   "name": "python3"
  },
  "language_info": {
   "codemirror_mode": {
    "name": "ipython",
    "version": 3
   },
   "file_extension": ".py",
   "mimetype": "text/x-python",
   "name": "python",
   "nbconvert_exporter": "python",
   "pygments_lexer": "ipython3",
   "version": "3.9.9"
  },
  "orig_nbformat": 2
 },
 "nbformat": 4,
 "nbformat_minor": 2
}
