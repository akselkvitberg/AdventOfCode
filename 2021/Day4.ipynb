{
 "cells": [
  {
   "cell_type": "code",
   "execution_count": 179,
   "metadata": {},
   "outputs": [],
   "source": [
    "import numpy as np"
   ]
  },
  {
   "cell_type": "code",
   "execution_count": 180,
   "metadata": {},
   "outputs": [],
   "source": [
    "import utils\n",
    "input = utils.GetInput(4)"
   ]
  },
  {
   "cell_type": "code",
   "execution_count": 181,
   "metadata": {},
   "outputs": [],
   "source": [
    "# input = \"\"\"7,4,9,5,11,17,23,2,0,14,21,24,10,16,13,6,15,25,12,22,18,20,8,19,3,26,1\n",
    "\n",
    "# 22 13 17 11  0\n",
    "#  8  2 23  4 24\n",
    "# 21  9 14 16  7\n",
    "#  6 10  3 18  5\n",
    "#  1 12 20 15 19\n",
    "\n",
    "#  3 15  0  2 22\n",
    "#  9 18 13 17  5\n",
    "# 19  8  7 25 23\n",
    "# 20 11 10 24  4\n",
    "# 14 21 16 12  6\n",
    "\n",
    "# 14 21 17 24  4\n",
    "# 10 16 15  9 19\n",
    "# 18  8 23 26 20\n",
    "# 22 11 13  6  5\n",
    "#  2  0 12  3  7\"\"\""
   ]
  },
  {
   "cell_type": "code",
   "execution_count": 182,
   "metadata": {},
   "outputs": [
    {
     "data": {
      "text/plain": [
       "['38 80 23 60 82\\n25 35 28 47 39\\n40  0 30 48 76\\n32 41 49 69  4\\n13 42 89 20 12',\n",
       " '76 89 13  5 98\\n87 48  2 59 20\\n37 88 41 24 57\\n16 85 31 73 95\\n70 11 93 30 27']"
      ]
     },
     "execution_count": 182,
     "metadata": {},
     "output_type": "execute_result"
    }
   ],
   "source": [
    "lines = input.split('\\n\\n')\n",
    "len(lines)\n",
    "\n",
    "lines[1:3]"
   ]
  },
  {
   "cell_type": "code",
   "execution_count": 183,
   "metadata": {},
   "outputs": [
    {
     "data": {
      "text/plain": [
       "array([50, 68,  2,  1, 69, 32, 87, 10, 31, 21, 78, 23, 62, 98, 16, 99, 65,\n",
       "       35, 27, 96, 66, 26, 74, 72, 45, 52, 81, 60, 38, 57, 54, 19, 18, 77,\n",
       "       71, 29, 51, 41, 22,  6, 58,  5, 42, 92, 85, 64, 94, 12, 83, 11, 17,\n",
       "       14, 37, 36, 59, 33,  0, 93, 34, 70, 97,  7, 76, 20,  3, 88, 43, 47,\n",
       "        8, 79, 80, 63,  9, 25, 56, 75, 15,  4, 82, 67, 39, 30, 89, 86, 46,\n",
       "       90, 48, 73, 91, 55, 95, 28, 49, 61, 44, 84, 40, 53, 13, 24])"
      ]
     },
     "execution_count": 183,
     "metadata": {},
     "output_type": "execute_result"
    }
   ],
   "source": [
    "numbers = np.array([int(i) for i in lines[0].split(',')])\n",
    "numbers"
   ]
  },
  {
   "cell_type": "code",
   "execution_count": 184,
   "metadata": {},
   "outputs": [
    {
     "data": {
      "text/plain": [
       "[[38, 80, 23, 60, 82],\n",
       " [25, 35, 28, 47, 39],\n",
       " [40, 0, 30, 48, 76],\n",
       " [32, 41, 49, 69, 4],\n",
       " [13, 42, 89, 20, 12]]"
      ]
     },
     "execution_count": 184,
     "metadata": {},
     "output_type": "execute_result"
    }
   ],
   "source": [
    "board = lines[1]\n",
    "[[int(x) for x in r.split()] for r in board.splitlines()]"
   ]
  },
  {
   "cell_type": "code",
   "execution_count": 185,
   "metadata": {},
   "outputs": [
    {
     "data": {
      "text/plain": [
       "array([[[38, 80, 23, 60, 82],\n",
       "        [25, 35, 28, 47, 39],\n",
       "        [40,  0, 30, 48, 76],\n",
       "        [32, 41, 49, 69,  4],\n",
       "        [13, 42, 89, 20, 12]],\n",
       "\n",
       "       [[76, 89, 13,  5, 98],\n",
       "        [87, 48,  2, 59, 20],\n",
       "        [37, 88, 41, 24, 57],\n",
       "        [16, 85, 31, 73, 95],\n",
       "        [70, 11, 93, 30, 27]],\n",
       "\n",
       "       [[81, 55, 41, 85, 33],\n",
       "        [67, 97, 71, 90, 52],\n",
       "        [19,  3, 79, 66, 14],\n",
       "        [49, 96, 94, 26, 25],\n",
       "        [60, 46, 51, 82,  9]]])"
      ]
     },
     "execution_count": 185,
     "metadata": {},
     "output_type": "execute_result"
    }
   ],
   "source": [
    "boards = np.array([[[int(x) for x in r.split()] for r in board.splitlines()] for board in lines[1:]])\n",
    "boards[:3]"
   ]
  },
  {
   "cell_type": "code",
   "execution_count": 186,
   "metadata": {},
   "outputs": [
    {
     "data": {
      "text/plain": [
       "array([[[False, False, False, False, False],\n",
       "        [False, False, False, False, False],\n",
       "        [False, False, False, False, False],\n",
       "        [False, False, False, False, False],\n",
       "        [False, False, False, False, False]],\n",
       "\n",
       "       [[False, False, False, False, False],\n",
       "        [False, False, False, False, False],\n",
       "        [False, False, False, False, False],\n",
       "        [False, False, False, False, False],\n",
       "        [False, False, False, False, False]],\n",
       "\n",
       "       [[False, False, False, False, False],\n",
       "        [False, False, False, False, False],\n",
       "        [False, False, False, False, False],\n",
       "        [False, False, False, False, False],\n",
       "        [False, False, False, False, False]]])"
      ]
     },
     "execution_count": 186,
     "metadata": {},
     "output_type": "execute_result"
    }
   ],
   "source": [
    "check_boards = np.array([[[False]*5]*5] * len(boards))\n",
    "check_boards[0:3]"
   ]
  },
  {
   "cell_type": "code",
   "execution_count": 187,
   "metadata": {},
   "outputs": [
    {
     "name": "stdout",
     "output_type": "stream",
     "text": [
      "[[38 80 23 60 82]\n",
      " [25 35 28 47 39]\n",
      " [40  0 30 48 76]\n",
      " [32 41 49 69  4]\n",
      " [13 42 89 20 12]]\n"
     ]
    },
    {
     "data": {
      "text/plain": [
       "array([80, 35,  0, 41, 42])"
      ]
     },
     "execution_count": 187,
     "metadata": {},
     "output_type": "execute_result"
    }
   ],
   "source": [
    "board = boards[0]\n",
    "print(board)\n",
    "board[:,1]"
   ]
  },
  {
   "cell_type": "code",
   "execution_count": 188,
   "metadata": {},
   "outputs": [
    {
     "data": {
      "text/plain": [
       "array([], shape=(0, 2), dtype=int64)"
      ]
     },
     "execution_count": 188,
     "metadata": {},
     "output_type": "execute_result"
    }
   ],
   "source": [
    "np.argwhere(board == 29)"
   ]
  },
  {
   "cell_type": "code",
   "execution_count": 199,
   "metadata": {},
   "outputs": [
    {
     "data": {
      "text/plain": [
       "(70, 33417)"
      ]
     },
     "execution_count": 199,
     "metadata": {},
     "output_type": "execute_result"
    }
   ],
   "source": [
    "def check_bingo(board):\n",
    "    for i in range(board.shape[0]):\n",
    "        if(np.all(board[i,:] == True)):\n",
    "            return True\n",
    "    for i in range(board.shape[1]):\n",
    "        if(np.all(board[:,i] == True)):\n",
    "            return True\n",
    "\n",
    "    return False\n",
    "\n",
    "def calculate_score(board, hits, num):\n",
    "    return np.sum(board[hits == False]) * num\n",
    "\n",
    "def score_board(board, numbers):\n",
    "    count = 0\n",
    "    hits = np.array([[False]*5]*5)\n",
    "    for number in numbers:\n",
    "        count = count + 1\n",
    "        hits[board == number] = True\n",
    "        if(check_bingo(hits)):\n",
    "            return count, calculate_score(board, hits, number)\n",
    "\n",
    "    return count, -1\n",
    "\n",
    "score_board(boards[2], numbers)"
   ]
  },
  {
   "cell_type": "code",
   "execution_count": 200,
   "metadata": {},
   "outputs": [
    {
     "data": {
      "text/plain": [
       "[(71, 35760),\n",
       " (63, 36480),\n",
       " (70, 33417),\n",
       " (56, 19305),\n",
       " (37, 38556),\n",
       " (66, 38720),\n",
       " (74, 10725),\n",
       " (69, 3472),\n",
       " (51, 10761),\n",
       " (32, 11970),\n",
       " (56, 17721),\n",
       " (55, 26550),\n",
       " (52, 7700),\n",
       " (65, 702),\n",
       " (54, 18432),\n",
       " (78, 1920),\n",
       " (58, 35433),\n",
       " (54, 19368),\n",
       " (55, 31565),\n",
       " (49, 42247),\n",
       " (57, 0),\n",
       " (50, 6028),\n",
       " (66, 46288),\n",
       " (71, 30000),\n",
       " (68, 20257),\n",
       " (52, 6804),\n",
       " (60, 36890),\n",
       " (75, 18928),\n",
       " (56, 11913),\n",
       " (46, 33472),\n",
       " (52, 6720),\n",
       " (35, 61628),\n",
       " (70, 38473),\n",
       " (76, 21450),\n",
       " (35, 80088),\n",
       " (69, 3416),\n",
       " (57, 0),\n",
       " (60, 27930),\n",
       " (58, 46779),\n",
       " (69, 2992),\n",
       " (20, 87456),\n",
       " (73, 3483),\n",
       " (62, 3353),\n",
       " (64, 8180),\n",
       " (53, 13764),\n",
       " (61, 50149),\n",
       " (47, 72286),\n",
       " (62, 3290),\n",
       " (56, 18876),\n",
       " (61, 41225),\n",
       " (56, 28710),\n",
       " (79, 20500),\n",
       " (57, 0),\n",
       " (63, 31084),\n",
       " (68, 19787),\n",
       " (75, 16016),\n",
       " (53, 21793),\n",
       " (71, 44560),\n",
       " (42, 2895),\n",
       " (65, 1359),\n",
       " (69, 3888),\n",
       " (57, 0),\n",
       " (51, 9452),\n",
       " (67, 12728),\n",
       " (47, 49726),\n",
       " (48, 7620),\n",
       " (42, 3845),\n",
       " (54, 22356),\n",
       " (73, 3240),\n",
       " (75, 23576),\n",
       " (65, 1269),\n",
       " (67, 14878),\n",
       " (42, 2405),\n",
       " (53, 28490),\n",
       " (74, 12075),\n",
       " (69, 2344),\n",
       " (72, 38619),\n",
       " (51, 8636),\n",
       " (54, 24408),\n",
       " (22, 26130),\n",
       " (51, 9809),\n",
       " (72, 37107),\n",
       " (45, 54060),\n",
       " (67, 23134),\n",
       " (81, 15561),\n",
       " (65, 1599),\n",
       " (41, 40600),\n",
       " (69, 3016),\n",
       " (65, 2274),\n",
       " (47, 57246),\n",
       " (68, 19928),\n",
       " (64, 8260),\n",
       " (79, 29520),\n",
       " (60, 46760),\n",
       " (56, 14652),\n",
       " (52, 11228),\n",
       " (73, 3213),\n",
       " (60, 31920),\n",
       " (61, 63826),\n",
       " (48, 6972)]"
      ]
     },
     "execution_count": 200,
     "metadata": {},
     "output_type": "execute_result"
    }
   ],
   "source": [
    "scores = [score_board(board, numbers) for board in boards]\n",
    "scores"
   ]
  },
  {
   "cell_type": "code",
   "execution_count": 202,
   "metadata": {},
   "outputs": [
    {
     "name": "stdout",
     "output_type": "stream",
     "text": [
      "Solution 1: (20, 87456)\n",
      "Solution 2: (81, 15561)\n"
     ]
    }
   ],
   "source": [
    "sorted_list = sorted(scores)\n",
    "\n",
    "print('Solution 1:', sorted_list[0])\n",
    "print('Solution 2:', sorted_list[-1])\n"
   ]
  }
 ],
 "metadata": {
  "kernelspec": {
   "display_name": "Python 3.9.0 64-bit",
   "metadata": {
    "interpreter": {
     "hash": "0e1c40ae922d1dd7cf4f12417ced6304637499fda80fb98e6529f33e524accf3"
    }
   },
   "name": "python3"
  },
  "language_info": {
   "codemirror_mode": {
    "name": "ipython",
    "version": 3
   },
   "file_extension": ".py",
   "mimetype": "text/x-python",
   "name": "python",
   "nbconvert_exporter": "python",
   "pygments_lexer": "ipython3",
   "version": "3.9.9"
  },
  "orig_nbformat": 2
 },
 "nbformat": 4,
 "nbformat_minor": 2
}
