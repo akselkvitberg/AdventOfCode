{
 "cells": [
  {
   "cell_type": "code",
   "execution_count": 152,
   "metadata": {},
   "outputs": [],
   "source": [
    "import utils\n",
    "import numpy as np\n",
    "input = utils.GetInput(6)"
   ]
  },
  {
   "cell_type": "code",
   "execution_count": 153,
   "metadata": {},
   "outputs": [],
   "source": [
    "#input = \"3,4,3,1,2\""
   ]
  },
  {
   "cell_type": "code",
   "execution_count": 154,
   "metadata": {},
   "outputs": [
    {
     "data": {
      "text/plain": [
       "array([2, 5, 3, 4, 4])"
      ]
     },
     "execution_count": 154,
     "metadata": {},
     "output_type": "execute_result"
    }
   ],
   "source": [
    "items = np.array([int(x) for x in input.split(',')])\n",
    "items[:5]"
   ]
  },
  {
   "cell_type": "code",
   "execution_count": 155,
   "metadata": {},
   "outputs": [
    {
     "data": {
      "text/plain": [
       "array([1., 4., 2., 3., 3., 4., 2., 1., 2., 2., 1., 1., 3., 1., 4., 3., 0.,\n",
       "       0., 3., 3., 4., 0., 1., 0., 4., 1., 0., 4., 0., 0., 0., 1., 3., 2.,\n",
       "       2., 0., 3., 1., 2., 3., 4., 0., 1., 4., 0., 1., 1., 4., 1., 3., 3.,\n",
       "       0., 3., 4., 3., 1., 0., 4., 4., 2., 1., 0., 2., 1., 0., 3., 1., 4.,\n",
       "       4., 4., 1., 2., 2., 4., 0., 0., 4., 2., 3., 1., 0., 3., 3., 4., 3.,\n",
       "       4., 2., 0., 3., 4., 0., 4., 2., 4., 3., 3., 3., 0., 3., 1., 1., 1.,\n",
       "       4., 3., 2., 0., 3., 3., 2., 3., 1., 0., 0., 4., 2., 2., 1., 4., 2.,\n",
       "       0., 1., 1., 3., 0., 3., 0., 4., 0., 0., 1., 4., 1., 1., 4., 1., 3.,\n",
       "       3., 2., 3., 0., 2., 2., 4., 3., 4., 3., 4., 4., 4., 4., 4., 3., 3.,\n",
       "       4., 2., 3., 2., 2., 0., 0., 4., 1., 3., 4., 4., 0., 4., 1., 3., 4.,\n",
       "       3., 1., 3., 3., 3., 1., 1., 1., 1., 1., 2., 4., 2., 0., 0., 1., 0.,\n",
       "       0., 4., 0., 3., 2., 3., 1., 4., 2., 3., 3., 2., 4., 4., 4., 3., 0.,\n",
       "       2., 3., 3., 1., 1., 0., 3., 0., 1., 0., 1., 0., 4., 4., 2., 3., 0.,\n",
       "       2., 1., 0., 3., 4., 0., 4., 4., 0., 1., 2., 3., 1., 0., 3., 0., 3.,\n",
       "       1., 2., 2., 1., 3., 0., 3., 0., 3., 3., 0., 4., 2., 0., 4., 1., 0.,\n",
       "       0., 1., 2., 2., 1., 3., 0., 1., 0., 4., 0., 0., 1., 0., 1., 0., 1.,\n",
       "       3., 4., 2., 4., 4., 0., 2., 3., 0., 0., 2., 2., 1., 1., 3., 2., 0.,\n",
       "       0., 1., 3., 0., 0., 0., 4., 3., 1., 3., 2.])"
      ]
     },
     "execution_count": 155,
     "metadata": {},
     "output_type": "execute_result"
    }
   ],
   "source": [
    "fish = items\n",
    "\n",
    "def day(fish):\n",
    "    # new day, subtract 1\n",
    "    fish = fish - 1\n",
    "\n",
    "    #how many fish have counter 0, add as many fishes to list\n",
    "    spawn = fish[fish == -1]\n",
    "    fish = np.concatenate((fish, np.array([8] * len(spawn))))\n",
    "\n",
    "    # Reset fish counter\n",
    "    fish[fish == -1] = 6\n",
    "    #print(fish)\n",
    "    return fish\n",
    "\n",
    "day(fish)"
   ]
  },
  {
   "cell_type": "code",
   "execution_count": 156,
   "metadata": {},
   "outputs": [
    {
     "data": {
      "text/plain": [
       "345387"
      ]
     },
     "execution_count": 156,
     "metadata": {},
     "output_type": "execute_result"
    }
   ],
   "source": [
    "fish = items\n",
    "\n",
    "for i in range(0, 80):\n",
    "    fish = day(fish)\n",
    "\n",
    "len(fish)"
   ]
  },
  {
   "cell_type": "code",
   "execution_count": 157,
   "metadata": {},
   "outputs": [
    {
     "data": {
      "text/plain": [
       "{0: 0, 1: 69, 2: 60, 3: 45, 4: 67, 5: 59, 6: 0, 7: 0, 8: 0}"
      ]
     },
     "execution_count": 157,
     "metadata": {},
     "output_type": "execute_result"
    }
   ],
   "source": [
    "data_dict = {}\n",
    "for i in range(0, 9):\n",
    "    data_dict[i] = 0\n",
    "\n",
    "for item in items:\n",
    "    data_dict[item] += 1\n",
    "\n",
    "data_dict"
   ]
  },
  {
   "cell_type": "code",
   "execution_count": 158,
   "metadata": {},
   "outputs": [
    {
     "name": "stdout",
     "output_type": "stream",
     "text": [
      "1574445493136\n"
     ]
    }
   ],
   "source": [
    "def day2(previous_day):\n",
    "    current = {}\n",
    "\n",
    "    #subtract 1\n",
    "    for i in range(1, 9):\n",
    "        current[i-1] = previous_day[i]\n",
    "    \n",
    "    #how many fish have counter 0?\n",
    "    current[8] = previous_day[0]\n",
    "    current[6] += previous_day[0]\n",
    "    return current\n",
    "\n",
    "dd = data_dict\n",
    "#print(0, dd, 5)\n",
    "for i in range(0, 256):\n",
    "    dd = day2(dd)\n",
    "    #print(i+1, dd, sum(dd.values()))\n",
    "print(sum(dd.values()))"
   ]
  }
 ],
 "metadata": {
  "kernelspec": {
   "display_name": "Python 3.9.0 64-bit",
   "metadata": {
    "interpreter": {
     "hash": "0e1c40ae922d1dd7cf4f12417ced6304637499fda80fb98e6529f33e524accf3"
    }
   },
   "name": "python3"
  },
  "language_info": {
   "codemirror_mode": {
    "name": "ipython",
    "version": 3
   },
   "file_extension": ".py",
   "mimetype": "text/x-python",
   "name": "python",
   "nbconvert_exporter": "python",
   "pygments_lexer": "ipython3",
   "version": "3.9.9"
  },
  "orig_nbformat": 2
 },
 "nbformat": 4,
 "nbformat_minor": 2
}
