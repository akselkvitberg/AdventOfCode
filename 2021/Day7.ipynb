{
 "cells": [
  {
   "cell_type": "code",
   "execution_count": 53,
   "metadata": {},
   "outputs": [],
   "source": [
    "import utils\n",
    "input = utils.GetInput(7)"
   ]
  },
  {
   "cell_type": "code",
   "execution_count": 54,
   "metadata": {},
   "outputs": [],
   "source": [
    "#input = \"16,1,2,0,4,2,7,1,2,14\""
   ]
  },
  {
   "cell_type": "code",
   "execution_count": 55,
   "metadata": {},
   "outputs": [
    {
     "data": {
      "text/plain": [
       "[1101, 1, 29, 67, 1102, 0, 1, 65, 1008, 65]"
      ]
     },
     "execution_count": 55,
     "metadata": {},
     "output_type": "execute_result"
    }
   ],
   "source": [
    "crabs = [int(x) for x in input.split(',')]\n",
    "crabs[:10]"
   ]
  },
  {
   "cell_type": "code",
   "execution_count": 56,
   "metadata": {},
   "outputs": [
    {
     "name": "stdout",
     "output_type": "stream",
     "text": [
      "383 352254\n"
     ]
    }
   ],
   "source": [
    "h_max = max(crabs)\n",
    "h_min = min(crabs)\n",
    "\n",
    "m_c = 99999999999999999999\n",
    "for i in range(h_min, h_max):\n",
    "    cost = sum([abs(i - c) for c in crabs])\n",
    "    if(cost < m_c):\n",
    "        m_c = cost\n",
    "        m_i = i\n",
    "\n",
    "print(m_i,m_c)"
   ]
  },
  {
   "cell_type": "code",
   "execution_count": 57,
   "metadata": {},
   "outputs": [
    {
     "name": "stdout",
     "output_type": "stream",
     "text": [
      "504 99053143.0\n"
     ]
    }
   ],
   "source": [
    "h_max = max(crabs)\n",
    "h_min = min(crabs)\n",
    "\n",
    "def costf(i, c):\n",
    "    cost = abs(i - c)\n",
    "    return cost * (cost + 1) / 2\n",
    "\n",
    "m_c = 99999999999999999999\n",
    "for i in range(h_min, h_max):\n",
    "    cost = sum([costf(i, c) for c in crabs])\n",
    "    if(cost < m_c):\n",
    "        m_c = cost\n",
    "        m_i = i\n",
    "\n",
    "print(m_i,m_c)"
   ]
  }
 ],
 "metadata": {
  "kernelspec": {
   "display_name": "Python 3.9.0 64-bit",
   "metadata": {
    "interpreter": {
     "hash": "0e1c40ae922d1dd7cf4f12417ced6304637499fda80fb98e6529f33e524accf3"
    }
   },
   "name": "python3"
  },
  "language_info": {
   "codemirror_mode": {
    "name": "ipython",
    "version": 3
   },
   "file_extension": ".py",
   "mimetype": "text/x-python",
   "name": "python",
   "nbconvert_exporter": "python",
   "pygments_lexer": "ipython3",
   "version": "3.9.9"
  },
  "orig_nbformat": 2
 },
 "nbformat": 4,
 "nbformat_minor": 2
}
